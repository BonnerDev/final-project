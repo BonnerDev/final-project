{
 "cells": [
  {
   "cell_type": "code",
   "execution_count": 1,
   "metadata": {},
   "outputs": [],
   "source": [
    "import matplotlib.pyplot as plt\n",
    "import pandas as pd\n",
    "import os"
   ]
  },
  {
   "cell_type": "code",
   "execution_count": 2,
   "metadata": {},
   "outputs": [
    {
     "data": {
      "text/html": [
       "<div>\n",
       "<style scoped>\n",
       "    .dataframe tbody tr th:only-of-type {\n",
       "        vertical-align: middle;\n",
       "    }\n",
       "\n",
       "    .dataframe tbody tr th {\n",
       "        vertical-align: top;\n",
       "    }\n",
       "\n",
       "    .dataframe thead th {\n",
       "        text-align: right;\n",
       "    }\n",
       "</style>\n",
       "<table border=\"1\" class=\"dataframe\">\n",
       "  <thead>\n",
       "    <tr style=\"text-align: right;\">\n",
       "      <th></th>\n",
       "      <th>id</th>\n",
       "      <th>Indicator</th>\n",
       "      <th>AACC Region</th>\n",
       "      <th>Aboriginality</th>\n",
       "      <th>Age Group</th>\n",
       "      <th>Gender</th>\n",
       "      <th>Count</th>\n",
       "      <th>Year</th>\n",
       "    </tr>\n",
       "  </thead>\n",
       "  <tbody>\n",
       "    <tr>\n",
       "      <th>0</th>\n",
       "      <td>1</td>\n",
       "      <td>Children in care</td>\n",
       "      <td>East Kimberley</td>\n",
       "      <td>NonAboriginal</td>\n",
       "      <td>0 - 17 Years</td>\n",
       "      <td>All</td>\n",
       "      <td>0</td>\n",
       "      <td>2008</td>\n",
       "    </tr>\n",
       "    <tr>\n",
       "      <th>1</th>\n",
       "      <td>2</td>\n",
       "      <td>Children in care</td>\n",
       "      <td>East Kimberley</td>\n",
       "      <td>Aboriginal</td>\n",
       "      <td>0 - 17 Years</td>\n",
       "      <td>All</td>\n",
       "      <td>91</td>\n",
       "      <td>2008</td>\n",
       "    </tr>\n",
       "    <tr>\n",
       "      <th>2</th>\n",
       "      <td>3</td>\n",
       "      <td>Children in care</td>\n",
       "      <td>Goldfields-Esperance</td>\n",
       "      <td>NonAboriginal</td>\n",
       "      <td>0 - 17 Years</td>\n",
       "      <td>All</td>\n",
       "      <td>34</td>\n",
       "      <td>2008</td>\n",
       "    </tr>\n",
       "    <tr>\n",
       "      <th>3</th>\n",
       "      <td>4</td>\n",
       "      <td>Children in care</td>\n",
       "      <td>Goldfields-Esperance</td>\n",
       "      <td>Aboriginal</td>\n",
       "      <td>0 - 17 Years</td>\n",
       "      <td>All</td>\n",
       "      <td>69</td>\n",
       "      <td>2008</td>\n",
       "    </tr>\n",
       "    <tr>\n",
       "      <th>4</th>\n",
       "      <td>5</td>\n",
       "      <td>Children in care</td>\n",
       "      <td>Midwest-Gascoyne</td>\n",
       "      <td>Aboriginal</td>\n",
       "      <td>0 - 17 Years</td>\n",
       "      <td>All</td>\n",
       "      <td>94</td>\n",
       "      <td>2008</td>\n",
       "    </tr>\n",
       "    <tr>\n",
       "      <th>...</th>\n",
       "      <td>...</td>\n",
       "      <td>...</td>\n",
       "      <td>...</td>\n",
       "      <td>...</td>\n",
       "      <td>...</td>\n",
       "      <td>...</td>\n",
       "      <td>...</td>\n",
       "      <td>...</td>\n",
       "    </tr>\n",
       "    <tr>\n",
       "      <th>175</th>\n",
       "      <td>176</td>\n",
       "      <td>Children in care</td>\n",
       "      <td>Western Australia</td>\n",
       "      <td>NonAboriginal</td>\n",
       "      <td>0 - 17 Years</td>\n",
       "      <td>All</td>\n",
       "      <td>2192</td>\n",
       "      <td>2017</td>\n",
       "    </tr>\n",
       "    <tr>\n",
       "      <th>176</th>\n",
       "      <td>177</td>\n",
       "      <td>Children in care</td>\n",
       "      <td>Wheatbelt</td>\n",
       "      <td>Aboriginal</td>\n",
       "      <td>0 - 17 Years</td>\n",
       "      <td>All</td>\n",
       "      <td>163</td>\n",
       "      <td>2017</td>\n",
       "    </tr>\n",
       "    <tr>\n",
       "      <th>177</th>\n",
       "      <td>178</td>\n",
       "      <td>Children in care</td>\n",
       "      <td>Wheatbelt</td>\n",
       "      <td>NonAboriginal</td>\n",
       "      <td>0 - 17 Years</td>\n",
       "      <td>All</td>\n",
       "      <td>90</td>\n",
       "      <td>2017</td>\n",
       "    </tr>\n",
       "    <tr>\n",
       "      <th>178</th>\n",
       "      <td>179</td>\n",
       "      <td>Children in care</td>\n",
       "      <td>West Kimberley</td>\n",
       "      <td>Aboriginal</td>\n",
       "      <td>0 - 17 Years</td>\n",
       "      <td>All</td>\n",
       "      <td>176</td>\n",
       "      <td>2017</td>\n",
       "    </tr>\n",
       "    <tr>\n",
       "      <th>179</th>\n",
       "      <td>180</td>\n",
       "      <td>Children in care</td>\n",
       "      <td>West Kimberley</td>\n",
       "      <td>NonAboriginal</td>\n",
       "      <td>0 - 17 Years</td>\n",
       "      <td>All</td>\n",
       "      <td>1</td>\n",
       "      <td>2017</td>\n",
       "    </tr>\n",
       "  </tbody>\n",
       "</table>\n",
       "<p>180 rows × 8 columns</p>\n",
       "</div>"
      ],
      "text/plain": [
       "      id         Indicator           AACC Region  Aboriginality     Age Group  \\\n",
       "0      1  Children in care        East Kimberley  NonAboriginal  0 - 17 Years   \n",
       "1      2  Children in care        East Kimberley     Aboriginal  0 - 17 Years   \n",
       "2      3  Children in care  Goldfields-Esperance  NonAboriginal  0 - 17 Years   \n",
       "3      4  Children in care  Goldfields-Esperance     Aboriginal  0 - 17 Years   \n",
       "4      5  Children in care      Midwest-Gascoyne     Aboriginal  0 - 17 Years   \n",
       "..   ...               ...                   ...            ...           ...   \n",
       "175  176  Children in care     Western Australia  NonAboriginal  0 - 17 Years   \n",
       "176  177  Children in care             Wheatbelt     Aboriginal  0 - 17 Years   \n",
       "177  178  Children in care             Wheatbelt  NonAboriginal  0 - 17 Years   \n",
       "178  179  Children in care        West Kimberley     Aboriginal  0 - 17 Years   \n",
       "179  180  Children in care        West Kimberley  NonAboriginal  0 - 17 Years   \n",
       "\n",
       "    Gender  Count  Year  \n",
       "0      All      0  2008  \n",
       "1      All     91  2008  \n",
       "2      All     34  2008  \n",
       "3      All     69  2008  \n",
       "4      All     94  2008  \n",
       "..     ...    ...   ...  \n",
       "175    All   2192  2017  \n",
       "176    All    163  2017  \n",
       "177    All     90  2017  \n",
       "178    All    176  2017  \n",
       "179    All      1  2017  \n",
       "\n",
       "[180 rows x 8 columns]"
      ]
     },
     "execution_count": 2,
     "metadata": {},
     "output_type": "execute_result"
    }
   ],
   "source": [
    "WA = pd.read_csv(\"data/WA-children-in-care-numbers-2008-to-2017.csv\")\n",
    "WA[\"Count\"].max()\n",
    "WA"
   ]
  },
  {
   "cell_type": "code",
   "execution_count": 3,
   "metadata": {},
   "outputs": [
    {
     "name": "stdout",
     "output_type": "stream",
     "text": [
      "(180, 3) (180,)\n"
     ]
    }
   ],
   "source": [
    " # Assign X (data) and y (target)\n",
    "X = WA.drop(columns=[\"id\",\"Indicator\", \"Age Group\", \"Gender\",\"Count\"], axis=1)\n",
    "y = WA[\"Count\"]\n",
    "print(X.shape, y.shape)"
   ]
  },
  {
   "cell_type": "code",
   "execution_count": 4,
   "metadata": {},
   "outputs": [],
   "source": [
    "X=pd.get_dummies(X)"
   ]
  },
  {
   "cell_type": "code",
   "execution_count": 5,
   "metadata": {},
   "outputs": [],
   "source": [
    "from sklearn.model_selection import train_test_split\n",
    "\n",
    "X_train, X_test, y_train, y_test = train_test_split(X, y, random_state=1)"
   ]
  },
  {
   "cell_type": "code",
   "execution_count": 6,
   "metadata": {},
   "outputs": [
    {
     "data": {
      "text/plain": [
       "LinearRegression(copy_X=True, fit_intercept=True, n_jobs=None, normalize=False)"
      ]
     },
     "execution_count": 6,
     "metadata": {},
     "output_type": "execute_result"
    }
   ],
   "source": [
    "from sklearn.linear_model import LinearRegression\n",
    "model = LinearRegression()\n",
    "model.fit(X_train,y_train)"
   ]
  },
  {
   "cell_type": "code",
   "execution_count": 7,
   "metadata": {},
   "outputs": [
    {
     "name": "stdout",
     "output_type": "stream",
     "text": [
      "0.9407827762336134\n"
     ]
    }
   ],
   "source": [
    "score=model.score(X_train,y_train)\n",
    "print(score)"
   ]
  },
  {
   "cell_type": "code",
   "execution_count": 8,
   "metadata": {},
   "outputs": [
    {
     "name": "stdout",
     "output_type": "stream",
     "text": [
      "0.9407827762336134\n"
     ]
    }
   ],
   "source": [
    "test_score=model.score(X_test,y_test)\n",
    "print(score)"
   ]
  },
  {
   "cell_type": "code",
   "execution_count": 9,
   "metadata": {},
   "outputs": [],
   "source": [
    "predict = model.predict(X_train)"
   ]
  },
  {
   "cell_type": "code",
   "execution_count": 10,
   "metadata": {},
   "outputs": [
    {
     "data": {
      "text/plain": [
       "array([ 147.45750601,   76.12241734,   62.90384901,  191.10316996,\n",
       "         27.3972621 ,   -7.881842  ,   99.7299333 ,    6.5121402 ,\n",
       "        141.08204286,  146.8314898 ,   59.77639644,  120.94349516,\n",
       "         57.19905574,   62.2778328 ,  -64.19693226,   83.1629547 ,\n",
       "        -31.59684023, 1910.72677971,   80.58561401,  169.8896081 ,\n",
       "        155.49562591, 1211.84216313,   76.34337503, 1980.88645451,\n",
       "         50.78382036,  -17.42381572, 1878.34764537, 1901.73420364,\n",
       "        216.66272463, 1793.79398838,  -57.1563949 ,   52.73585908,\n",
       "         70.92236806,  113.9029578 ,   -3.02983353,  207.44919087,\n",
       "        194.23062254,  103.97217227, 1925.12076191,   86.29040728,\n",
       "        153.3226295 ,   38.89127454,    5.96274254,  258.68550407,\n",
       "        -13.63128893])"
      ]
     },
     "execution_count": 10,
     "metadata": {},
     "output_type": "execute_result"
    }
   ],
   "source": [
    "predictions = model.predict(X_test)\n",
    "predictions"
   ]
  },
  {
   "cell_type": "code",
   "execution_count": 11,
   "metadata": {},
   "outputs": [],
   "source": [
    "comparison=pd.DataFrame({\"Prediction\": predictions, \"Actual\": y_test}).reset_index(drop=True)"
   ]
  },
  {
   "cell_type": "code",
   "execution_count": 12,
   "metadata": {},
   "outputs": [
    {
     "data": {
      "text/plain": [
       "<matplotlib.collections.LineCollection at 0x23693bf4f08>"
      ]
     },
     "execution_count": 12,
     "metadata": {},
     "output_type": "execute_result"
    },
    {
     "data": {
      "image/png": "[encoded data removed]",
      "text/plain": [
       "<Figure size 432x288 with 1 Axes>"
      ]
     },
     "metadata": {
      "needs_background": "light"
     },
     "output_type": "display_data"
    }
   ],
   "source": [
    "plt.scatter(predictions,predictions-y_test)\n",
    "plt.hlines(y=0,xmin=predictions.min(),xmax=predictions.max())"
   ]
  },
  {
   "cell_type": "code",
   "execution_count": null,
   "metadata": {},
   "outputs": [],
   "source": []
  }
 ],
 "metadata": {
  "kernelspec": {
   "display_name": "Python 3",
   "language": "python",
   "name": "python3"
  },
  "language_info": {
   "codemirror_mode": {
    "name": "ipython",
    "version": 3
   },
   "file_extension": ".py",
   "mimetype": "text/x-python",
   "name": "python",
   "nbconvert_exporter": "python",
   "pygments_lexer": "ipython3",
   "version": "3.7.6"
  }
 },
 "nbformat": 4,
 "nbformat_minor": 4
}
